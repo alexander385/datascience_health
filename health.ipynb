{
 "cells": [
  {
   "cell_type": "code",
   "execution_count": 151,
   "metadata": {},
   "outputs": [
    {
     "data": {
      "text/html": [
       "<div>\n",
       "<style scoped>\n",
       "    .dataframe tbody tr th:only-of-type {\n",
       "        vertical-align: middle;\n",
       "    }\n",
       "\n",
       "    .dataframe tbody tr th {\n",
       "        vertical-align: top;\n",
       "    }\n",
       "\n",
       "    .dataframe thead th {\n",
       "        text-align: right;\n",
       "    }\n",
       "</style>\n",
       "<table border=\"1\" class=\"dataframe\">\n",
       "  <thead>\n",
       "    <tr style=\"text-align: right;\">\n",
       "      <th></th>\n",
       "      <th>QI</th>\n",
       "      <th>Machine</th>\n",
       "      <th>PreCheck</th>\n",
       "      <th>NumberPins</th>\n",
       "      <th>BoardID</th>\n",
       "      <th>Price</th>\n",
       "      <th>BoardCategory</th>\n",
       "      <th>MaterialOrigin</th>\n",
       "    </tr>\n",
       "    <tr>\n",
       "      <th>ID</th>\n",
       "      <th></th>\n",
       "      <th></th>\n",
       "      <th></th>\n",
       "      <th></th>\n",
       "      <th></th>\n",
       "      <th></th>\n",
       "      <th></th>\n",
       "      <th></th>\n",
       "    </tr>\n",
       "  </thead>\n",
       "  <tbody>\n",
       "    <tr>\n",
       "      <th>1</th>\n",
       "      <td>0</td>\n",
       "      <td>3.0</td>\n",
       "      <td>0</td>\n",
       "      <td>22.0</td>\n",
       "      <td>A/5 21171</td>\n",
       "      <td>7.2500</td>\n",
       "      <td>NaN</td>\n",
       "      <td>S</td>\n",
       "    </tr>\n",
       "    <tr>\n",
       "      <th>2</th>\n",
       "      <td>1</td>\n",
       "      <td>1.0</td>\n",
       "      <td>1</td>\n",
       "      <td>38.0</td>\n",
       "      <td>PC 17599</td>\n",
       "      <td>71.2833</td>\n",
       "      <td>C85</td>\n",
       "      <td>C</td>\n",
       "    </tr>\n",
       "    <tr>\n",
       "      <th>3</th>\n",
       "      <td>1</td>\n",
       "      <td>3.0</td>\n",
       "      <td>1</td>\n",
       "      <td>26.0</td>\n",
       "      <td>STON/O2. 3101282</td>\n",
       "      <td>7.9250</td>\n",
       "      <td>NaN</td>\n",
       "      <td>S</td>\n",
       "    </tr>\n",
       "    <tr>\n",
       "      <th>4</th>\n",
       "      <td>1</td>\n",
       "      <td>1.0</td>\n",
       "      <td>1</td>\n",
       "      <td>35.0</td>\n",
       "      <td>113803</td>\n",
       "      <td>53.1000</td>\n",
       "      <td>C123</td>\n",
       "      <td>S</td>\n",
       "    </tr>\n",
       "    <tr>\n",
       "      <th>5</th>\n",
       "      <td>0</td>\n",
       "      <td>3.0</td>\n",
       "      <td>0</td>\n",
       "      <td>35.0</td>\n",
       "      <td>373450</td>\n",
       "      <td>8.0500</td>\n",
       "      <td>NaN</td>\n",
       "      <td>S</td>\n",
       "    </tr>\n",
       "    <tr>\n",
       "      <th>6</th>\n",
       "      <td>0</td>\n",
       "      <td>3.0</td>\n",
       "      <td>0</td>\n",
       "      <td>NaN</td>\n",
       "      <td>330877</td>\n",
       "      <td>8.4583</td>\n",
       "      <td>NaN</td>\n",
       "      <td>Q</td>\n",
       "    </tr>\n",
       "    <tr>\n",
       "      <th>7</th>\n",
       "      <td>0</td>\n",
       "      <td>1.0</td>\n",
       "      <td>0</td>\n",
       "      <td>54.0</td>\n",
       "      <td>17463</td>\n",
       "      <td>51.8625</td>\n",
       "      <td>E46</td>\n",
       "      <td>S</td>\n",
       "    </tr>\n",
       "    <tr>\n",
       "      <th>8</th>\n",
       "      <td>0</td>\n",
       "      <td>3.0</td>\n",
       "      <td>0</td>\n",
       "      <td>2.0</td>\n",
       "      <td>349909</td>\n",
       "      <td>21.0750</td>\n",
       "      <td>NaN</td>\n",
       "      <td>S</td>\n",
       "    </tr>\n",
       "    <tr>\n",
       "      <th>9</th>\n",
       "      <td>1</td>\n",
       "      <td>3.0</td>\n",
       "      <td>1</td>\n",
       "      <td>27.0</td>\n",
       "      <td>347742</td>\n",
       "      <td>11.1333</td>\n",
       "      <td>NaN</td>\n",
       "      <td>S</td>\n",
       "    </tr>\n",
       "    <tr>\n",
       "      <th>10</th>\n",
       "      <td>1</td>\n",
       "      <td>2.0</td>\n",
       "      <td>1</td>\n",
       "      <td>14.0</td>\n",
       "      <td>237736</td>\n",
       "      <td>30.0708</td>\n",
       "      <td>NaN</td>\n",
       "      <td>C</td>\n",
       "    </tr>\n",
       "    <tr>\n",
       "      <th>11</th>\n",
       "      <td>1</td>\n",
       "      <td>3.0</td>\n",
       "      <td>1</td>\n",
       "      <td>4.0</td>\n",
       "      <td>PP 9549</td>\n",
       "      <td>16.7000</td>\n",
       "      <td>G6</td>\n",
       "      <td>S</td>\n",
       "    </tr>\n",
       "    <tr>\n",
       "      <th>12</th>\n",
       "      <td>1</td>\n",
       "      <td>1.0</td>\n",
       "      <td>1</td>\n",
       "      <td>58.0</td>\n",
       "      <td>113783</td>\n",
       "      <td>26.5500</td>\n",
       "      <td>C103</td>\n",
       "      <td>S</td>\n",
       "    </tr>\n",
       "    <tr>\n",
       "      <th>13</th>\n",
       "      <td>0</td>\n",
       "      <td>NaN</td>\n",
       "      <td>0</td>\n",
       "      <td>20.0</td>\n",
       "      <td>A/5. 2151</td>\n",
       "      <td>8.0500</td>\n",
       "      <td>NaN</td>\n",
       "      <td>S</td>\n",
       "    </tr>\n",
       "    <tr>\n",
       "      <th>14</th>\n",
       "      <td>0</td>\n",
       "      <td>NaN</td>\n",
       "      <td>0</td>\n",
       "      <td>39.0</td>\n",
       "      <td>347082</td>\n",
       "      <td>31.2750</td>\n",
       "      <td>NaN</td>\n",
       "      <td>S</td>\n",
       "    </tr>\n",
       "    <tr>\n",
       "      <th>15</th>\n",
       "      <td>0</td>\n",
       "      <td>3.0</td>\n",
       "      <td>1</td>\n",
       "      <td>14.0</td>\n",
       "      <td>350406</td>\n",
       "      <td>7.8542</td>\n",
       "      <td>NaN</td>\n",
       "      <td>S</td>\n",
       "    </tr>\n",
       "    <tr>\n",
       "      <th>16</th>\n",
       "      <td>1</td>\n",
       "      <td>2.0</td>\n",
       "      <td>1</td>\n",
       "      <td>55.0</td>\n",
       "      <td>248706</td>\n",
       "      <td>16.0000</td>\n",
       "      <td>NaN</td>\n",
       "      <td>S</td>\n",
       "    </tr>\n",
       "    <tr>\n",
       "      <th>17</th>\n",
       "      <td>0</td>\n",
       "      <td>3.0</td>\n",
       "      <td>0</td>\n",
       "      <td>2.0</td>\n",
       "      <td>382652</td>\n",
       "      <td>29.1250</td>\n",
       "      <td>NaN</td>\n",
       "      <td>Q</td>\n",
       "    </tr>\n",
       "    <tr>\n",
       "      <th>18</th>\n",
       "      <td>1</td>\n",
       "      <td>2.0</td>\n",
       "      <td>0</td>\n",
       "      <td>NaN</td>\n",
       "      <td>244373</td>\n",
       "      <td>13.0000</td>\n",
       "      <td>NaN</td>\n",
       "      <td>S</td>\n",
       "    </tr>\n",
       "    <tr>\n",
       "      <th>19</th>\n",
       "      <td>0</td>\n",
       "      <td>3.0</td>\n",
       "      <td>1</td>\n",
       "      <td>31.0</td>\n",
       "      <td>345763</td>\n",
       "      <td>18.0000</td>\n",
       "      <td>NaN</td>\n",
       "      <td>S</td>\n",
       "    </tr>\n",
       "    <tr>\n",
       "      <th>20</th>\n",
       "      <td>1</td>\n",
       "      <td>3.0</td>\n",
       "      <td>1</td>\n",
       "      <td>NaN</td>\n",
       "      <td>2649</td>\n",
       "      <td>7.2250</td>\n",
       "      <td>NaN</td>\n",
       "      <td>C</td>\n",
       "    </tr>\n",
       "  </tbody>\n",
       "</table>\n",
       "</div>"
      ],
      "text/plain": [
       "    QI  Machine  PreCheck  NumberPins           BoardID    Price  \\\n",
       "ID                                                                 \n",
       "1    0      3.0         0        22.0         A/5 21171   7.2500   \n",
       "2    1      1.0         1        38.0          PC 17599  71.2833   \n",
       "3    1      3.0         1        26.0  STON/O2. 3101282   7.9250   \n",
       "4    1      1.0         1        35.0            113803  53.1000   \n",
       "5    0      3.0         0        35.0            373450   8.0500   \n",
       "6    0      3.0         0         NaN            330877   8.4583   \n",
       "7    0      1.0         0        54.0             17463  51.8625   \n",
       "8    0      3.0         0         2.0            349909  21.0750   \n",
       "9    1      3.0         1        27.0            347742  11.1333   \n",
       "10   1      2.0         1        14.0            237736  30.0708   \n",
       "11   1      3.0         1         4.0           PP 9549  16.7000   \n",
       "12   1      1.0         1        58.0            113783  26.5500   \n",
       "13   0      NaN         0        20.0         A/5. 2151   8.0500   \n",
       "14   0      NaN         0        39.0            347082  31.2750   \n",
       "15   0      3.0         1        14.0            350406   7.8542   \n",
       "16   1      2.0         1        55.0            248706  16.0000   \n",
       "17   0      3.0         0         2.0            382652  29.1250   \n",
       "18   1      2.0         0         NaN            244373  13.0000   \n",
       "19   0      3.0         1        31.0            345763  18.0000   \n",
       "20   1      3.0         1         NaN              2649   7.2250   \n",
       "\n",
       "   BoardCategory MaterialOrigin  \n",
       "ID                               \n",
       "1            NaN              S  \n",
       "2            C85              C  \n",
       "3            NaN              S  \n",
       "4           C123              S  \n",
       "5            NaN              S  \n",
       "6            NaN              Q  \n",
       "7            E46              S  \n",
       "8            NaN              S  \n",
       "9            NaN              S  \n",
       "10           NaN              C  \n",
       "11            G6              S  \n",
       "12          C103              S  \n",
       "13           NaN              S  \n",
       "14           NaN              S  \n",
       "15           NaN              S  \n",
       "16           NaN              S  \n",
       "17           NaN              Q  \n",
       "18           NaN              S  \n",
       "19           NaN              S  \n",
       "20           NaN              C  "
      ]
     },
     "execution_count": 151,
     "metadata": {},
     "output_type": "execute_result"
    }
   ],
   "source": [
    "import pandas as pd\n",
    "import numpy as np\n",
    "import matplotlib.pyplot as plt\n",
    "import seaborn as sns\n",
    "\n",
    "#load csv into dataframe\n",
    "df = pd.read_csv(\"/Users/alexanderfrankow/Desktop/Python/myenv/CSV/SupplyChain.csv\")\n",
    "df = df.drop(df.columns[0], axis=1)\n",
    "df.set_index(df.columns[0], inplace=True)\n",
    "df.head(20)\n"
   ]
  },
  {
   "cell_type": "code",
   "execution_count": 152,
   "metadata": {},
   "outputs": [
    {
     "name": "stdout",
     "output_type": "stream",
     "text": [
      "<class 'pandas.core.frame.DataFrame'>\n",
      "Index: 891 entries, 1 to 891\n",
      "Data columns (total 8 columns):\n",
      " #   Column          Non-Null Count  Dtype  \n",
      "---  ------          --------------  -----  \n",
      " 0   QI              891 non-null    int64  \n",
      " 1   Machine         802 non-null    float64\n",
      " 2   PreCheck        891 non-null    int64  \n",
      " 3   NumberPins      714 non-null    float64\n",
      " 4   BoardID         891 non-null    object \n",
      " 5   Price           880 non-null    float64\n",
      " 6   BoardCategory   204 non-null    object \n",
      " 7   MaterialOrigin  889 non-null    object \n",
      "dtypes: float64(3), int64(2), object(3)\n",
      "memory usage: 62.6+ KB\n",
      "None\n",
      "The Dataframe has 891 observations with 8 columns\n",
      "               QI     Machine    PreCheck  NumberPins       Price\n",
      "count  891.000000  802.000000  891.000000  714.000000  880.000000\n",
      "mean     0.383838    2.301746    0.352413   29.699118   32.332125\n",
      "std      0.486592    0.836867    0.477990   14.526497   49.964536\n",
      "min      0.000000    1.000000    0.000000    0.420000    0.000000\n",
      "25%      0.000000    2.000000    0.000000   20.125000    7.895800\n",
      "50%      0.000000    3.000000    0.000000   28.000000   14.454200\n",
      "75%      1.000000    3.000000    1.000000   38.000000   31.068750\n",
      "max      1.000000    3.000000    1.000000   80.000000  512.329200\n"
     ]
    }
   ],
   "source": [
    "print(df.info())\n",
    "print(f\"The Dataframe has {df.shape[0]} observations with {df.shape[1]} columns\" )\n",
    "print(df.describe())"
   ]
  },
  {
   "cell_type": "code",
   "execution_count": 153,
   "metadata": {},
   "outputs": [],
   "source": [
    "cols_to_categorical = ['QI', 'Machine', 'PreCheck', 'BoardID', 'BoardCategory', 'MaterialOrigin']\n",
    "df[cols_to_categorical] = df[cols_to_categorical].astype('category')"
   ]
  },
  {
   "cell_type": "code",
   "execution_count": 154,
   "metadata": {},
   "outputs": [
    {
     "name": "stdout",
     "output_type": "stream",
     "text": [
      "                Missing Value  No Missing Value  Relative Missing Values\n",
      "QI                          0               891                     0.00\n",
      "Machine                    89               802                     9.99\n",
      "PreCheck                    0               891                     0.00\n",
      "NumberPins                177               714                    19.87\n",
      "BoardID                     0               891                     0.00\n",
      "Price                      11               880                     1.23\n",
      "BoardCategory             687               204                    77.10\n",
      "MaterialOrigin              2               889                     0.22\n"
     ]
    }
   ],
   "source": [
    "nan_summary = df.isnull().sum().to_frame(name='Missing Value')\n",
    "non_nan_summary = df.notnull().sum().to_frame(name='No Missing Value')\n",
    "total_rows = len(df)\n",
    "nan_percentage = (nan_summary / total_rows * 100).round(2)\n",
    "nan_percentage.columns = ['Relative Missing Values']\n",
    "contingency_table = pd.concat([nan_summary, non_nan_summary, nan_percentage], axis=1)\n",
    "\n",
    "print(contingency_table)"
   ]
  },
  {
   "cell_type": "code",
   "execution_count": 155,
   "metadata": {},
   "outputs": [
    {
     "name": "stdout",
     "output_type": "stream",
     "text": [
      "           QI  Machine  PreCheck  NumberPins BoardID       Price  \\\n",
      "count   891.0    802.0     891.0  714.000000     891  880.000000   \n",
      "unique    2.0      3.0       2.0         NaN     681         NaN   \n",
      "top       0.0      3.0       0.0         NaN    1601         NaN   \n",
      "freq    549.0    438.0     577.0         NaN       7         NaN   \n",
      "mean      NaN      NaN       NaN   29.699118     NaN   32.332125   \n",
      "std       NaN      NaN       NaN   14.526497     NaN   49.964536   \n",
      "min       NaN      NaN       NaN    0.420000     NaN    0.000000   \n",
      "25%       NaN      NaN       NaN   20.125000     NaN    7.895800   \n",
      "50%       NaN      NaN       NaN   28.000000     NaN   14.454200   \n",
      "75%       NaN      NaN       NaN   38.000000     NaN   31.068750   \n",
      "max       NaN      NaN       NaN   80.000000     NaN  512.329200   \n",
      "\n",
      "       MaterialOrigin  \n",
      "count             889  \n",
      "unique              3  \n",
      "top                 S  \n",
      "freq              644  \n",
      "mean              NaN  \n",
      "std               NaN  \n",
      "min               NaN  \n",
      "25%               NaN  \n",
      "50%               NaN  \n",
      "75%               NaN  \n",
      "max               NaN  \n"
     ]
    }
   ],
   "source": [
    "df = df.drop(df.columns[6], axis=1)\n",
    "print(df.describe(include='all'))"
   ]
  },
  {
   "cell_type": "code",
   "execution_count": 156,
   "metadata": {},
   "outputs": [
    {
     "data": {
      "image/png": "[encoded data removed]",
      "text/plain": [
       "<Figure size 640x480 with 1 Axes>"
      ]
     },
     "metadata": {},
     "output_type": "display_data"
    }
   ],
   "source": [
    "df['NumberPins'].plot.box(title=\"Box Plot of NumberPins\")\n",
    "plt.ylabel(\"NumberPins\")\n",
    "plt.grid(True)\n",
    "plt.show()"
   ]
  },
  {
   "cell_type": "code",
   "execution_count": 157,
   "metadata": {},
   "outputs": [
    {
     "data": {
      "image/png": "[encoded data removed]",
      "text/plain": [
       "<Figure size 640x480 with 1 Axes>"
      ]
     },
     "metadata": {},
     "output_type": "display_data"
    }
   ],
   "source": [
    "Q1 = df['NumberPins'].quantile(0.25)\n",
    "Q3 = df['NumberPins'].quantile(0.75)\n",
    "IQR = Q3 - Q1\n",
    "upper_fence = Q3 + 1.5 * IQR\n",
    "df.loc[df['NumberPins'] > upper_fence, 'NumberPins'] = np.nan\n",
    "df['NumberPins'].plot.box(title=\"Box Plot of NumberPins\")\n",
    "plt.ylabel(\"NumberPins\")\n",
    "plt.grid(True)\n",
    "plt.show()\n"
   ]
  },
  {
   "cell_type": "code",
   "execution_count": 158,
   "metadata": {},
   "outputs": [
    {
     "name": "stdout",
     "output_type": "stream",
     "text": [
      "                Missing Value  No Missing Value  Relative Missing Values\n",
      "QI                          0               891                     0.00\n",
      "Machine                    89               802                     9.99\n",
      "PreCheck                    0               891                     0.00\n",
      "NumberPins                188               703                    21.10\n",
      "BoardID                     0               891                     0.00\n",
      "Price                      11               880                     1.23\n",
      "MaterialOrigin              2               889                     0.22\n"
     ]
    }
   ],
   "source": [
    "nan_summary = df.isnull().sum().to_frame(name='Missing Value')\n",
    "non_nan_summary = df.notnull().sum().to_frame(name='No Missing Value')\n",
    "total_rows = len(df)\n",
    "nan_percentage = (nan_summary / total_rows * 100).round(2)\n",
    "nan_percentage.columns = ['Relative Missing Values']\n",
    "contingency_table = pd.concat([nan_summary, non_nan_summary, nan_percentage], axis=1)\n",
    "print(contingency_table)\n",
    "\n",
    "df['NumberPins'].fillna(df['NumberPins'].mean(), inplace=True)"
   ]
  },
  {
   "cell_type": "code",
   "execution_count": 159,
   "metadata": {},
   "outputs": [
    {
     "data": {
      "image/png": "[encoded data removed]",
      "text/plain": [
       "<Figure size 640x480 with 1 Axes>"
      ]
     },
     "metadata": {},
     "output_type": "display_data"
    }
   ],
   "source": [
    "df['Machine'].value_counts().plot(kind='bar', title=\"Frequency of Machines\")\n",
    "plt.show()"
   ]
  },
  {
   "cell_type": "code",
   "execution_count": 160,
   "metadata": {},
   "outputs": [
    {
     "name": "stdout",
     "output_type": "stream",
     "text": [
      "PreCheck    0    1\n",
      "QI                \n",
      "0         468   81\n",
      "1         109  233\n",
      "In percentage:\n",
      "PreCheck         0         1\n",
      "QI                          \n",
      "0         0.852459  0.147541\n",
      "1         0.318713  0.681287\n"
     ]
    }
   ],
   "source": [
    "contingency_table = pd.crosstab(df['QI'], df['PreCheck'])\n",
    "print(contingency_table)\n",
    "print(\"In percentage:\")\n",
    "prop_table = contingency_table.div(contingency_table.sum(axis=1), axis=0)\n",
    "print(prop_table)"
   ]
  },
  {
   "cell_type": "code",
   "execution_count": 161,
   "metadata": {},
   "outputs": [
    {
     "data": {
      "image/png": "[encoded data removed]",
      "text/plain": [
       "<Figure size 640x480 with 2 Axes>"
      ]
     },
     "metadata": {},
     "output_type": "display_data"
    }
   ],
   "source": [
    "corr_matrix = df[['NumberPins','Price']].corr()\n",
    "sns.heatmap(corr_matrix, annot=True, cmap='coolwarm')\n",
    "plt.title(\"Correlation Matrix\")\n",
    "plt.show()"
   ]
  },
  {
   "cell_type": "code",
   "execution_count": null,
   "metadata": {},
   "outputs": [],
   "source": []
  },
  {
   "cell_type": "code",
   "execution_count": null,
   "metadata": {},
   "outputs": [],
   "source": []
  },
  {
   "cell_type": "code",
   "execution_count": null,
   "metadata": {},
   "outputs": [],
   "source": []
  },
  {
   "cell_type": "code",
   "execution_count": null,
   "metadata": {},
   "outputs": [
    {
     "data": {
      "image/png": "[encoded data removed]",
      "text/plain": [
       "<Figure size 1000x500 with 1 Axes>"
      ]
     },
     "metadata": {},
     "output_type": "display_data"
    }
   ],
   "source": [
    "plt.figure(figsize=(10, 5))\n",
    "sns.histplot(df['NumberPins'].dropna(), bins=20, kde=True)\n",
    "plt.title(\"Histogrram of NumberPins\")\n",
    "plt.show()"
   ]
  }
 ],
 "metadata": {
  "kernelspec": {
   "display_name": "base",
   "language": "python",
   "name": "python3"
  },
  "language_info": {
   "codemirror_mode": {
    "name": "ipython",
    "version": 3
   },
   "file_extension": ".py",
   "mimetype": "text/x-python",
   "name": "python",
   "nbconvert_exporter": "python",
   "pygments_lexer": "ipython3",
   "version": "3.12.2"
  }
 },
 "nbformat": 4,
 "nbformat_minor": 2
}
